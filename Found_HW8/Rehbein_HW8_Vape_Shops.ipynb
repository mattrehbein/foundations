{
 "cells": [
  {
   "cell_type": "markdown",
   "metadata": {},
   "source": [
    "# Scraping Maryland Business Licenses with Selenium\n",
    "\n",
    "Maryland has a [great portal](https://jportal.mdcourts.gov/license/pbPublicSearch.jsp) for searching business licenses, but the only problem is you have to check a box in order to get in.\n",
    "\n",
    "1. Try to visit [the public search page](https://jportal.mdcourts.gov/license/pbPublicSearch.jsp)\n",
    "2. Get redirected to a \"I agree to this\" page. Click that you've read the disclaimer, click Enter the Site.\n",
    "3. Click \"Search License Records\" down at the bottom of the page\n",
    "4. You're now on the search page! From the \"Jurisdiction\" dropdown, select \"Statewide\"\n",
    "5. In the \"Trade Name\" field, type \"Vap%\" to try to find vape shops\n",
    "6. Click \"Next\" in the bottom right-hand corner to go to the next page\n",
    "7. Click \"Click for detail\" to see the details for a specific business license.\n",
    "\n",
    "That's a lot of stuff! **Let's get to work.**"
   ]
  },
  {
   "cell_type": "markdown",
   "metadata": {},
   "source": [
    "## Import what you need"
   ]
  },
  {
   "cell_type": "code",
   "execution_count": 1,
   "metadata": {},
   "outputs": [],
   "source": [
    "from selenium import webdriver\n",
    "from selenium.webdriver.common.keys import Keys\n",
    "from selenium.webdriver.support.ui import Select\n",
    "from selenium.webdriver.support.ui import WebDriverWait\n",
    "\n",
    "import pandas as pd"
   ]
  },
  {
   "cell_type": "markdown",
   "metadata": {},
   "source": [
    "## Preparation\n",
    "\n",
    "### When you search for a business license, what URL should Selenium try to visit first?"
   ]
  },
  {
   "cell_type": "code",
   "execution_count": 2,
   "metadata": {},
   "outputs": [],
   "source": [
    "driver = webdriver.Chrome()\n",
    "url = 'https://jportal.mdcourts.gov/license/pbIndex.jsp?ac=y'\n",
    "driver.get(url)"
   ]
  },
  {
   "cell_type": "code",
   "execution_count": 3,
   "metadata": {},
   "outputs": [],
   "source": [
    "checkbox = driver.find_element_by_id(\"checkbox\")\n",
    "checkbox.click()"
   ]
  },
  {
   "cell_type": "code",
   "execution_count": null,
   "metadata": {},
   "outputs": [],
   "source": []
  },
  {
   "cell_type": "markdown",
   "metadata": {},
   "source": [
    "**It isn't going to work, though! It's going to redirect to that intro page.** You can use *Incognito mode* to go back through the \"Check the box, etc\" series of pages, or you can close and re-open Chrome.\n",
    "\n",
    "- Check the checkbox, then submit the form to accept their terms of service\n",
    "\n",
    "Selenium can submit forms by either\n",
    "\n",
    "- Selecting the form and using `.submit()`, or\n",
    "- Selecting the button and using `.click()`\n",
    "\n",
    "You only need to be able to get **one, not both.**\n",
    "\n",
    "- *TIP: if something doesn't have anything special about it, xpath might be your best bet*"
   ]
  },
  {
   "cell_type": "code",
   "execution_count": 4,
   "metadata": {},
   "outputs": [],
   "source": [
    "button = driver.find_element_by_xpath('/html/body/table/tbody/tr[7]/td/form/div/input[2]')\n",
    "button.click()"
   ]
  },
  {
   "cell_type": "markdown",
   "metadata": {},
   "source": [
    "Now click the **Search License Records** link up top in the navigation to get to the search page.\n",
    "\n",
    "- *TIP: Honestly you could also just visit the URL directly now since you filled out that terms of service thing*"
   ]
  },
  {
   "cell_type": "code",
   "execution_count": 5,
   "metadata": {},
   "outputs": [],
   "source": [
    "goto_search = driver.find_element_by_xpath('/html/body/table[1]/tbody/tr[2]/td[2]/table/tbody/tr/td[3]/a')\n",
    "goto_search.click()"
   ]
  },
  {
   "cell_type": "code",
   "execution_count": null,
   "metadata": {},
   "outputs": [],
   "source": []
  },
  {
   "cell_type": "markdown",
   "metadata": {},
   "source": [
    "### Perform your search\n",
    "\n",
    "Pick \"Statewide\" for the jurisdiction dropdown, and `VAP%` into the Trade Name field. The `%` is a wildcard."
   ]
  },
  {
   "cell_type": "code",
   "execution_count": 6,
   "metadata": {},
   "outputs": [],
   "source": [
    "select = Select(driver.find_element_by_name('slcJurisdiction'))\n",
    "select.select_by_visible_text('Statewide')"
   ]
  },
  {
   "cell_type": "code",
   "execution_count": 7,
   "metadata": {},
   "outputs": [],
   "source": [
    "text_input = driver.find_element_by_id('txtTradeName')\n",
    "text_input.send_keys(\"VAP%\")"
   ]
  },
  {
   "cell_type": "code",
   "execution_count": 8,
   "metadata": {},
   "outputs": [],
   "source": [
    "text_input.submit()"
   ]
  },
  {
   "cell_type": "markdown",
   "metadata": {},
   "source": [
    "And now, of course, **submit the form**.\n",
    "\n",
    "- *TIP: Since scrolling to buttons can be a pain, sometimes it's easier to select the form and use `.submit()` instead of `.click()`ing the button*"
   ]
  },
  {
   "cell_type": "code",
   "execution_count": null,
   "metadata": {},
   "outputs": [],
   "source": []
  },
  {
   "cell_type": "code",
   "execution_count": null,
   "metadata": {},
   "outputs": [],
   "source": []
  },
  {
   "cell_type": "markdown",
   "metadata": {},
   "source": [
    "## (Try to) scrape the results\n",
    "\n",
    "Let's start by just **printing this stuff**. We'll save it as a dataframe later on.\n",
    "\n",
    "For now, just scrape **each store's name**, then cry a little. Fact: this is an impossible and miserable page. "
   ]
  },
  {
   "cell_type": "code",
   "execution_count": 9,
   "metadata": {},
   "outputs": [
    {
     "name": "stdout",
     "output_type": "stream",
     "text": [
      "VAPE IT STORE II\n",
      "VAPE IT STORE I\n",
      "VAPEPAD THE\n",
      "VAPE FROG\n",
      "VAPE FROG\n"
     ]
    }
   ],
   "source": [
    "search_list = driver.find_elements_by_class_name('searchlistitem')\n",
    "for item in search_list:\n",
    "    print(item.text)"
   ]
  },
  {
   "cell_type": "markdown",
   "metadata": {},
   "source": [
    "To avoid struggling with the search results page, we're going to use the **detail page** instead. Try to figure out how to select it and click it inside of your `for` loop.\n",
    "\n",
    "- *TIP: Instead of just looking for an `a` or an `img`, you might want to look for one of its parents first, then click. This might affect the way you print out the shop's name, too*\n",
    "- *TIP: Not all of them have links! You can wrap in try/except to skip it, or you can check to see if the shop's status is Pending.*"
   ]
  },
  {
   "cell_type": "code",
   "execution_count": 10,
   "metadata": {},
   "outputs": [],
   "source": [
    "# search_list = driver.find_elements_by_class_name('searchfieldtitle')\n",
    "# tds = search_list[0].find_elements_by_tag_name('td')\n",
    "# click_for_details = tds[2].find_element_by_tag_name('a')\n",
    "# click_for_details.click()"
   ]
  },
  {
   "cell_type": "code",
   "execution_count": 11,
   "metadata": {},
   "outputs": [
    {
     "name": "stdout",
     "output_type": "stream",
     "text": [
      "1104 PLANTERS PLACE\n",
      "SALISBURY, MD 21804\n"
     ]
    },
    {
     "ename": "StaleElementReferenceException",
     "evalue": "Message: stale element reference: element is not attached to the page document\n  (Session info: chrome=67.0.3396.87)\n  (Driver info: chromedriver=2.40.565386 (45a059dc425e08165f9a10324bd1380cc13ca363),platform=Mac OS X 10.13.4 x86_64)\n",
     "output_type": "error",
     "traceback": [
      "\u001b[0;31m---------------------------------------------------------------------------\u001b[0m",
      "\u001b[0;31mStaleElementReferenceException\u001b[0m            Traceback (most recent call last)",
      "\u001b[0;32m<ipython-input-11-dae84034be23>\u001b[0m in \u001b[0;36m<module>\u001b[0;34m()\u001b[0m\n\u001b[1;32m      5\u001b[0m \u001b[0;34m\u001b[0m\u001b[0m\n\u001b[1;32m      6\u001b[0m \u001b[0;32mfor\u001b[0m \u001b[0mitem\u001b[0m \u001b[0;32min\u001b[0m \u001b[0msearch_list\u001b[0m\u001b[0;34m[\u001b[0m\u001b[0;36m0\u001b[0m\u001b[0;34m:\u001b[0m\u001b[0;34m]\u001b[0m\u001b[0;34m:\u001b[0m\u001b[0;34m\u001b[0m\u001b[0m\n\u001b[0;32m----> 7\u001b[0;31m     \u001b[0mtds\u001b[0m \u001b[0;34m=\u001b[0m \u001b[0mitem\u001b[0m\u001b[0;34m.\u001b[0m\u001b[0mfind_elements_by_tag_name\u001b[0m\u001b[0;34m(\u001b[0m\u001b[0;34m'td'\u001b[0m\u001b[0;34m)\u001b[0m\u001b[0;34m\u001b[0m\u001b[0m\n\u001b[0m\u001b[1;32m      8\u001b[0m     \u001b[0;32mtry\u001b[0m\u001b[0;34m:\u001b[0m\u001b[0;34m\u001b[0m\u001b[0m\n\u001b[1;32m      9\u001b[0m         \u001b[0mclick_for_details\u001b[0m \u001b[0;34m=\u001b[0m \u001b[0mtds\u001b[0m\u001b[0;34m[\u001b[0m\u001b[0;36m2\u001b[0m\u001b[0;34m]\u001b[0m\u001b[0;34m.\u001b[0m\u001b[0mfind_element_by_tag_name\u001b[0m\u001b[0;34m(\u001b[0m\u001b[0;34m'a'\u001b[0m\u001b[0;34m)\u001b[0m\u001b[0;34m\u001b[0m\u001b[0m\n",
      "\u001b[0;32m~/.pyenv/versions/3.6.5/lib/python3.6/site-packages/selenium/webdriver/remote/webelement.py\u001b[0m in \u001b[0;36mfind_elements_by_tag_name\u001b[0;34m(self, name)\u001b[0m\n\u001b[1;32m    318\u001b[0m             \u001b[0melements\u001b[0m \u001b[0;34m=\u001b[0m \u001b[0melement\u001b[0m\u001b[0;34m.\u001b[0m\u001b[0mfind_elements_by_tag_name\u001b[0m\u001b[0;34m(\u001b[0m\u001b[0;34m'h1'\u001b[0m\u001b[0;34m)\u001b[0m\u001b[0;34m\u001b[0m\u001b[0m\n\u001b[1;32m    319\u001b[0m         \"\"\"\n\u001b[0;32m--> 320\u001b[0;31m         \u001b[0;32mreturn\u001b[0m \u001b[0mself\u001b[0m\u001b[0;34m.\u001b[0m\u001b[0mfind_elements\u001b[0m\u001b[0;34m(\u001b[0m\u001b[0mby\u001b[0m\u001b[0;34m=\u001b[0m\u001b[0mBy\u001b[0m\u001b[0;34m.\u001b[0m\u001b[0mTAG_NAME\u001b[0m\u001b[0;34m,\u001b[0m \u001b[0mvalue\u001b[0m\u001b[0;34m=\u001b[0m\u001b[0mname\u001b[0m\u001b[0;34m)\u001b[0m\u001b[0;34m\u001b[0m\u001b[0m\n\u001b[0m\u001b[1;32m    321\u001b[0m \u001b[0;34m\u001b[0m\u001b[0m\n\u001b[1;32m    322\u001b[0m     \u001b[0;32mdef\u001b[0m \u001b[0mfind_element_by_xpath\u001b[0m\u001b[0;34m(\u001b[0m\u001b[0mself\u001b[0m\u001b[0;34m,\u001b[0m \u001b[0mxpath\u001b[0m\u001b[0;34m)\u001b[0m\u001b[0;34m:\u001b[0m\u001b[0;34m\u001b[0m\u001b[0m\n",
      "\u001b[0;32m~/.pyenv/versions/3.6.5/lib/python3.6/site-packages/selenium/webdriver/remote/webelement.py\u001b[0m in \u001b[0;36mfind_elements\u001b[0;34m(self, by, value)\u001b[0m\n\u001b[1;32m    676\u001b[0m \u001b[0;34m\u001b[0m\u001b[0m\n\u001b[1;32m    677\u001b[0m         return self._execute(Command.FIND_CHILD_ELEMENTS,\n\u001b[0;32m--> 678\u001b[0;31m                              {\"using\": by, \"value\": value})['value']\n\u001b[0m\u001b[1;32m    679\u001b[0m \u001b[0;34m\u001b[0m\u001b[0m\n\u001b[1;32m    680\u001b[0m     \u001b[0;32mdef\u001b[0m \u001b[0m__hash__\u001b[0m\u001b[0;34m(\u001b[0m\u001b[0mself\u001b[0m\u001b[0;34m)\u001b[0m\u001b[0;34m:\u001b[0m\u001b[0;34m\u001b[0m\u001b[0m\n",
      "\u001b[0;32m~/.pyenv/versions/3.6.5/lib/python3.6/site-packages/selenium/webdriver/remote/webelement.py\u001b[0m in \u001b[0;36m_execute\u001b[0;34m(self, command, params)\u001b[0m\n\u001b[1;32m    626\u001b[0m             \u001b[0mparams\u001b[0m \u001b[0;34m=\u001b[0m \u001b[0;34m{\u001b[0m\u001b[0;34m}\u001b[0m\u001b[0;34m\u001b[0m\u001b[0m\n\u001b[1;32m    627\u001b[0m         \u001b[0mparams\u001b[0m\u001b[0;34m[\u001b[0m\u001b[0;34m'id'\u001b[0m\u001b[0;34m]\u001b[0m \u001b[0;34m=\u001b[0m \u001b[0mself\u001b[0m\u001b[0;34m.\u001b[0m\u001b[0m_id\u001b[0m\u001b[0;34m\u001b[0m\u001b[0m\n\u001b[0;32m--> 628\u001b[0;31m         \u001b[0;32mreturn\u001b[0m \u001b[0mself\u001b[0m\u001b[0;34m.\u001b[0m\u001b[0m_parent\u001b[0m\u001b[0;34m.\u001b[0m\u001b[0mexecute\u001b[0m\u001b[0;34m(\u001b[0m\u001b[0mcommand\u001b[0m\u001b[0;34m,\u001b[0m \u001b[0mparams\u001b[0m\u001b[0;34m)\u001b[0m\u001b[0;34m\u001b[0m\u001b[0m\n\u001b[0m\u001b[1;32m    629\u001b[0m \u001b[0;34m\u001b[0m\u001b[0m\n\u001b[1;32m    630\u001b[0m     \u001b[0;32mdef\u001b[0m \u001b[0mfind_element\u001b[0m\u001b[0;34m(\u001b[0m\u001b[0mself\u001b[0m\u001b[0;34m,\u001b[0m \u001b[0mby\u001b[0m\u001b[0;34m=\u001b[0m\u001b[0mBy\u001b[0m\u001b[0;34m.\u001b[0m\u001b[0mID\u001b[0m\u001b[0;34m,\u001b[0m \u001b[0mvalue\u001b[0m\u001b[0;34m=\u001b[0m\u001b[0;32mNone\u001b[0m\u001b[0;34m)\u001b[0m\u001b[0;34m:\u001b[0m\u001b[0;34m\u001b[0m\u001b[0m\n",
      "\u001b[0;32m~/.pyenv/versions/3.6.5/lib/python3.6/site-packages/selenium/webdriver/remote/webdriver.py\u001b[0m in \u001b[0;36mexecute\u001b[0;34m(self, driver_command, params)\u001b[0m\n\u001b[1;32m    312\u001b[0m         \u001b[0mresponse\u001b[0m \u001b[0;34m=\u001b[0m \u001b[0mself\u001b[0m\u001b[0;34m.\u001b[0m\u001b[0mcommand_executor\u001b[0m\u001b[0;34m.\u001b[0m\u001b[0mexecute\u001b[0m\u001b[0;34m(\u001b[0m\u001b[0mdriver_command\u001b[0m\u001b[0;34m,\u001b[0m \u001b[0mparams\u001b[0m\u001b[0;34m)\u001b[0m\u001b[0;34m\u001b[0m\u001b[0m\n\u001b[1;32m    313\u001b[0m         \u001b[0;32mif\u001b[0m \u001b[0mresponse\u001b[0m\u001b[0;34m:\u001b[0m\u001b[0;34m\u001b[0m\u001b[0m\n\u001b[0;32m--> 314\u001b[0;31m             \u001b[0mself\u001b[0m\u001b[0;34m.\u001b[0m\u001b[0merror_handler\u001b[0m\u001b[0;34m.\u001b[0m\u001b[0mcheck_response\u001b[0m\u001b[0;34m(\u001b[0m\u001b[0mresponse\u001b[0m\u001b[0;34m)\u001b[0m\u001b[0;34m\u001b[0m\u001b[0m\n\u001b[0m\u001b[1;32m    315\u001b[0m             response['value'] = self._unwrap_value(\n\u001b[1;32m    316\u001b[0m                 response.get('value', None))\n",
      "\u001b[0;32m~/.pyenv/versions/3.6.5/lib/python3.6/site-packages/selenium/webdriver/remote/errorhandler.py\u001b[0m in \u001b[0;36mcheck_response\u001b[0;34m(self, response)\u001b[0m\n\u001b[1;32m    240\u001b[0m                 \u001b[0malert_text\u001b[0m \u001b[0;34m=\u001b[0m \u001b[0mvalue\u001b[0m\u001b[0;34m[\u001b[0m\u001b[0;34m'alert'\u001b[0m\u001b[0;34m]\u001b[0m\u001b[0;34m.\u001b[0m\u001b[0mget\u001b[0m\u001b[0;34m(\u001b[0m\u001b[0;34m'text'\u001b[0m\u001b[0;34m)\u001b[0m\u001b[0;34m\u001b[0m\u001b[0m\n\u001b[1;32m    241\u001b[0m             \u001b[0;32mraise\u001b[0m \u001b[0mexception_class\u001b[0m\u001b[0;34m(\u001b[0m\u001b[0mmessage\u001b[0m\u001b[0;34m,\u001b[0m \u001b[0mscreen\u001b[0m\u001b[0;34m,\u001b[0m \u001b[0mstacktrace\u001b[0m\u001b[0;34m,\u001b[0m \u001b[0malert_text\u001b[0m\u001b[0;34m)\u001b[0m\u001b[0;34m\u001b[0m\u001b[0m\n\u001b[0;32m--> 242\u001b[0;31m         \u001b[0;32mraise\u001b[0m \u001b[0mexception_class\u001b[0m\u001b[0;34m(\u001b[0m\u001b[0mmessage\u001b[0m\u001b[0;34m,\u001b[0m \u001b[0mscreen\u001b[0m\u001b[0;34m,\u001b[0m \u001b[0mstacktrace\u001b[0m\u001b[0;34m)\u001b[0m\u001b[0;34m\u001b[0m\u001b[0m\n\u001b[0m\u001b[1;32m    243\u001b[0m \u001b[0;34m\u001b[0m\u001b[0m\n\u001b[1;32m    244\u001b[0m     \u001b[0;32mdef\u001b[0m \u001b[0m_value_or_default\u001b[0m\u001b[0;34m(\u001b[0m\u001b[0mself\u001b[0m\u001b[0;34m,\u001b[0m \u001b[0mobj\u001b[0m\u001b[0;34m,\u001b[0m \u001b[0mkey\u001b[0m\u001b[0;34m,\u001b[0m \u001b[0mdefault\u001b[0m\u001b[0;34m)\u001b[0m\u001b[0;34m:\u001b[0m\u001b[0;34m\u001b[0m\u001b[0m\n",
      "\u001b[0;31mStaleElementReferenceException\u001b[0m: Message: stale element reference: element is not attached to the page document\n  (Session info: chrome=67.0.3396.87)\n  (Driver info: chromedriver=2.40.565386 (45a059dc425e08165f9a10324bd1380cc13ca363),platform=Mac OS X 10.13.4 x86_64)\n"
     ]
    }
   ],
   "source": [
    "# I GOT THE STALE ERROR PRETTY EARLY IN THE PROCESS -- AFTER I'D ONLY BUILT THE LOOP TO GRAB\n",
    "# THE MAILING ADDRESS AND THEN RETURN TO SEARCH RESULTS (WAS DOING ONE PIECE AT A TIME AND TESTING)\n",
    "\n",
    "search_list = driver.find_elements_by_class_name('searchfieldtitle')\n",
    "\n",
    "for item in search_list[0:]:\n",
    "    tds = item.find_elements_by_tag_name('td')\n",
    "    try:\n",
    "        click_for_details = tds[2].find_element_by_tag_name('a')\n",
    "        click_for_details.click()\n",
    "        rows = driver.find_elements_by_class_name('tablecelltext')\n",
    "        mailing_address = \"\\n\".join(rows[0].find_elements_by_tag_name('td')[0].text.split('\\n')[-2:])\n",
    "        print(mailing_address)\n",
    "        \n",
    "        return_to_list_button = driver.find_element_by_partial_link_text('Retur')\n",
    "        return_to_list_button.click()\n",
    "        \n",
    "    except:\n",
    "        print(item.text, \"Status pending\")"
   ]
  },
  {
   "cell_type": "code",
   "execution_count": null,
   "metadata": {},
   "outputs": [],
   "source": [
    "# this is just my cell to test more simply whether my code for getting address worked before\n",
    "# adding the the for loop\n",
    "# rows = driver.find_elements_by_class_name('tablecelltext')\n",
    "# len(rows)\n",
    "# print(\"\\n\".join(rows[0].find_elements_by_tag_name('td')[0].text.split('\\n')[-2:]))\n",
    "\n",
    "# tables = driver.find_elements_by_tag_name('table')\n",
    "# print(tables[-2].find_elements_by_tag_name('td')[0].text)\n",
    "\n",
    "# return_to_list_button = driver.find_element_by_partial_link_text('Retur')\n",
    "# driver.execute_script(\"arguments[0].scrollIntoView(true)\", return_to_list_button)\n",
    "# return_to_list_button.click()\n",
    "\n",
    "# driver.find_elements_by_tag_name('table')[-2].find_elements_by_tag_name('td')[0].find_elements_by_tag_name('a')"
   ]
  },
  {
   "cell_type": "markdown",
   "metadata": {
    "collapsed": true
   },
   "source": [
    "Okay, now let's get to action. For each result, **click the link to the detail page** and print out the following information:\n",
    "\n",
    "- Mailing address\n",
    "- Location address\n",
    "- License information (you can keep it as one field)\n",
    "- Total amount paid\n",
    "- Issued by\n",
    "- If you're feeling crazy, get the licenses, too.\n",
    "\n",
    "If it doesn't have a detail page, just print out the name and that's all we need.\n",
    "\n",
    "- *TIP: When you're done getting the information, you probably want to click back to the search results*\n",
    "- *TIP: You might enjoy `find_element_by_partial_link_text` to do that*\n",
    "- *TIP: Licenses can be acquired by doing some really odd list slicing - think about where it starts and where it ends, relative to the beginning and end of everything.*\n",
    "\n",
    "> **IMPORTANT NOTE:** This is doomed. It's useful to do, but your current process is doomed. Once you get a `stale element reference` error move on to the next cell."
   ]
  },
  {
   "cell_type": "code",
   "execution_count": null,
   "metadata": {},
   "outputs": [],
   "source": []
  },
  {
   "cell_type": "markdown",
   "metadata": {},
   "source": [
    "### Stale message reference\n",
    "\n",
    "Once you navigate away from a page, and you go back to it, you can't use the variables from the first time you were on the page. So, we got a list of results when we first visited, clicked to the details page, clicked back, and now our original list is \"stale.\"\n",
    "\n",
    "This is sad.\n",
    "\n",
    "Let's try this again: loop through the results and create a dataframe with `name` and `url` columns. And yes, some of them won't have URLs."
   ]
  },
  {
   "cell_type": "code",
   "execution_count": null,
   "metadata": {},
   "outputs": [],
   "source": [
    "search_list = driver.find_elements_by_class_name('searchfieldtitle')\n",
    "list_for_df = []\n",
    "\n",
    "for result in search_list:\n",
    "    dict = {}\n",
    "#    print(result.find_element_by_class_name('searchlistitem').text)\n",
    "    tds = result.find_elements_by_tag_name('td')\n",
    "    dict['name'] = tds[1].text\n",
    "    try:\n",
    "        dict['url'] = tds[2].find_element_by_tag_name('a').get_attribute('href')\n",
    "    except:\n",
    "        dict['url'] = \"Pending\"\n",
    "    list_for_df.append(dict)\n",
    "list_for_df"
   ]
  },
  {
   "cell_type": "code",
   "execution_count": null,
   "metadata": {},
   "outputs": [],
   "source": []
  },
  {
   "cell_type": "markdown",
   "metadata": {},
   "source": [
    "### Getting all of the results\n",
    "\n",
    "After you've looped through the results on one page, we're going to want to go to the next page! Add a line to make it click the 'Next' button down at the bottom\n",
    "\n",
    "- *Tip: `find_element_by_partial_link_text` will be your friend*\n",
    "- *Tip: You might need to do the scrolling thing to get it onto the screen (and by that I mean, you WILL need to, so you should)*\n",
    "\n",
    "Confirm that it moves to the next page (it doesn't need to scrape anything yet)"
   ]
  },
  {
   "cell_type": "code",
   "execution_count": null,
   "metadata": {},
   "outputs": [],
   "source": [
    "search_list = driver.find_elements_by_class_name('searchfieldtitle')\n",
    "list_for_df = []\n",
    "\n",
    "for result in search_list:\n",
    "    dict = {}\n",
    "\n",
    "    dict['name'] = result.find_elements_by_tag_name('td')[1].text\n",
    "    try:\n",
    "        dict['url'] = result.find_elements_by_tag_name('td')[2].find_element_by_tag_name('a').get_attribute('href')\n",
    "    except:\n",
    "        dict['url'] = \"Pending\"\n",
    "    list_for_df.append(dict)\n",
    "    \n",
    "next_button = driver.find_element_by_partial_link_text('Next')\n",
    "driver.execute_script(\"arguments[0].scrollIntoView(true)\", next_button)\n",
    "next_button.click()"
   ]
  },
  {
   "cell_type": "markdown",
   "metadata": {},
   "source": [
    "### Wrapping with `while`\n",
    "\n",
    "> Go back to the first page of results before you try to run this\n",
    "\n",
    "You have a bunch of scraping code. It clicks the next button, then it stops. But you'd like it to go back up to the top! You can make that happen with a special `while` loop.\n",
    "\n",
    "```python\n",
    "while True:\n",
    "    # Scrape your stuff\n",
    "    # Click next button\n",
    "```\n",
    "\n",
    "This will go on FOREVER AND EVER until there is an error (when it can't find the Next button on the last page of results, you'll get an error).\n",
    "\n",
    "- *Tip: Print out \"Scraping a new page\" every time you visit a new page, just to check that it's working*"
   ]
  },
  {
   "cell_type": "code",
   "execution_count": 12,
   "metadata": {},
   "outputs": [
    {
     "name": "stdout",
     "output_type": "stream",
     "text": [
      "Scraping a new page\n",
      "Scraping a new page\n",
      "Scraping a new page\n",
      "Scraping a new page\n",
      "Scraping a new page\n",
      "Scraping a new page\n"
     ]
    },
    {
     "ename": "NoSuchElementException",
     "evalue": "Message: no such element: Unable to locate element: {\"method\":\"partial link text\",\"selector\":\"Next\"}\n  (Session info: chrome=67.0.3396.87)\n  (Driver info: chromedriver=2.40.565386 (45a059dc425e08165f9a10324bd1380cc13ca363),platform=Mac OS X 10.13.4 x86_64)\n",
     "output_type": "error",
     "traceback": [
      "\u001b[0;31m---------------------------------------------------------------------------\u001b[0m",
      "\u001b[0;31mNoSuchElementException\u001b[0m                    Traceback (most recent call last)",
      "\u001b[0;32m<ipython-input-12-1f6e504661dd>\u001b[0m in \u001b[0;36m<module>\u001b[0;34m()\u001b[0m\n\u001b[1;32m     13\u001b[0m         \u001b[0mlist_for_df\u001b[0m\u001b[0;34m.\u001b[0m\u001b[0mappend\u001b[0m\u001b[0;34m(\u001b[0m\u001b[0mdict\u001b[0m\u001b[0;34m)\u001b[0m\u001b[0;34m\u001b[0m\u001b[0m\n\u001b[1;32m     14\u001b[0m \u001b[0;34m\u001b[0m\u001b[0m\n\u001b[0;32m---> 15\u001b[0;31m     \u001b[0mnext_button\u001b[0m \u001b[0;34m=\u001b[0m \u001b[0mdriver\u001b[0m\u001b[0;34m.\u001b[0m\u001b[0mfind_element_by_partial_link_text\u001b[0m\u001b[0;34m(\u001b[0m\u001b[0;34m'Next'\u001b[0m\u001b[0;34m)\u001b[0m\u001b[0;34m\u001b[0m\u001b[0m\n\u001b[0m\u001b[1;32m     16\u001b[0m     \u001b[0mdriver\u001b[0m\u001b[0;34m.\u001b[0m\u001b[0mexecute_script\u001b[0m\u001b[0;34m(\u001b[0m\u001b[0;34m\"arguments[0].scrollIntoView(true)\"\u001b[0m\u001b[0;34m,\u001b[0m \u001b[0mnext_button\u001b[0m\u001b[0;34m)\u001b[0m\u001b[0;34m\u001b[0m\u001b[0m\n\u001b[1;32m     17\u001b[0m     \u001b[0mnext_button\u001b[0m\u001b[0;34m.\u001b[0m\u001b[0mclick\u001b[0m\u001b[0;34m(\u001b[0m\u001b[0;34m)\u001b[0m\u001b[0;34m\u001b[0m\u001b[0m\n",
      "\u001b[0;32m~/.pyenv/versions/3.6.5/lib/python3.6/site-packages/selenium/webdriver/remote/webdriver.py\u001b[0m in \u001b[0;36mfind_element_by_partial_link_text\u001b[0;34m(self, link_text)\u001b[0m\n\u001b[1;32m    453\u001b[0m             \u001b[0melement\u001b[0m \u001b[0;34m=\u001b[0m \u001b[0mdriver\u001b[0m\u001b[0;34m.\u001b[0m\u001b[0mfind_element_by_partial_link_text\u001b[0m\u001b[0;34m(\u001b[0m\u001b[0;34m'Sign'\u001b[0m\u001b[0;34m)\u001b[0m\u001b[0;34m\u001b[0m\u001b[0m\n\u001b[1;32m    454\u001b[0m         \"\"\"\n\u001b[0;32m--> 455\u001b[0;31m         \u001b[0;32mreturn\u001b[0m \u001b[0mself\u001b[0m\u001b[0;34m.\u001b[0m\u001b[0mfind_element\u001b[0m\u001b[0;34m(\u001b[0m\u001b[0mby\u001b[0m\u001b[0;34m=\u001b[0m\u001b[0mBy\u001b[0m\u001b[0;34m.\u001b[0m\u001b[0mPARTIAL_LINK_TEXT\u001b[0m\u001b[0;34m,\u001b[0m \u001b[0mvalue\u001b[0m\u001b[0;34m=\u001b[0m\u001b[0mlink_text\u001b[0m\u001b[0;34m)\u001b[0m\u001b[0;34m\u001b[0m\u001b[0m\n\u001b[0m\u001b[1;32m    456\u001b[0m \u001b[0;34m\u001b[0m\u001b[0m\n\u001b[1;32m    457\u001b[0m     \u001b[0;32mdef\u001b[0m \u001b[0mfind_elements_by_partial_link_text\u001b[0m\u001b[0;34m(\u001b[0m\u001b[0mself\u001b[0m\u001b[0;34m,\u001b[0m \u001b[0mlink_text\u001b[0m\u001b[0;34m)\u001b[0m\u001b[0;34m:\u001b[0m\u001b[0;34m\u001b[0m\u001b[0m\n",
      "\u001b[0;32m~/.pyenv/versions/3.6.5/lib/python3.6/site-packages/selenium/webdriver/remote/webdriver.py\u001b[0m in \u001b[0;36mfind_element\u001b[0;34m(self, by, value)\u001b[0m\n\u001b[1;32m    955\u001b[0m         return self.execute(Command.FIND_ELEMENT, {\n\u001b[1;32m    956\u001b[0m             \u001b[0;34m'using'\u001b[0m\u001b[0;34m:\u001b[0m \u001b[0mby\u001b[0m\u001b[0;34m,\u001b[0m\u001b[0;34m\u001b[0m\u001b[0m\n\u001b[0;32m--> 957\u001b[0;31m             'value': value})['value']\n\u001b[0m\u001b[1;32m    958\u001b[0m \u001b[0;34m\u001b[0m\u001b[0m\n\u001b[1;32m    959\u001b[0m     \u001b[0;32mdef\u001b[0m \u001b[0mfind_elements\u001b[0m\u001b[0;34m(\u001b[0m\u001b[0mself\u001b[0m\u001b[0;34m,\u001b[0m \u001b[0mby\u001b[0m\u001b[0;34m=\u001b[0m\u001b[0mBy\u001b[0m\u001b[0;34m.\u001b[0m\u001b[0mID\u001b[0m\u001b[0;34m,\u001b[0m \u001b[0mvalue\u001b[0m\u001b[0;34m=\u001b[0m\u001b[0;32mNone\u001b[0m\u001b[0;34m)\u001b[0m\u001b[0;34m:\u001b[0m\u001b[0;34m\u001b[0m\u001b[0m\n",
      "\u001b[0;32m~/.pyenv/versions/3.6.5/lib/python3.6/site-packages/selenium/webdriver/remote/webdriver.py\u001b[0m in \u001b[0;36mexecute\u001b[0;34m(self, driver_command, params)\u001b[0m\n\u001b[1;32m    312\u001b[0m         \u001b[0mresponse\u001b[0m \u001b[0;34m=\u001b[0m \u001b[0mself\u001b[0m\u001b[0;34m.\u001b[0m\u001b[0mcommand_executor\u001b[0m\u001b[0;34m.\u001b[0m\u001b[0mexecute\u001b[0m\u001b[0;34m(\u001b[0m\u001b[0mdriver_command\u001b[0m\u001b[0;34m,\u001b[0m \u001b[0mparams\u001b[0m\u001b[0;34m)\u001b[0m\u001b[0;34m\u001b[0m\u001b[0m\n\u001b[1;32m    313\u001b[0m         \u001b[0;32mif\u001b[0m \u001b[0mresponse\u001b[0m\u001b[0;34m:\u001b[0m\u001b[0;34m\u001b[0m\u001b[0m\n\u001b[0;32m--> 314\u001b[0;31m             \u001b[0mself\u001b[0m\u001b[0;34m.\u001b[0m\u001b[0merror_handler\u001b[0m\u001b[0;34m.\u001b[0m\u001b[0mcheck_response\u001b[0m\u001b[0;34m(\u001b[0m\u001b[0mresponse\u001b[0m\u001b[0;34m)\u001b[0m\u001b[0;34m\u001b[0m\u001b[0m\n\u001b[0m\u001b[1;32m    315\u001b[0m             response['value'] = self._unwrap_value(\n\u001b[1;32m    316\u001b[0m                 response.get('value', None))\n",
      "\u001b[0;32m~/.pyenv/versions/3.6.5/lib/python3.6/site-packages/selenium/webdriver/remote/errorhandler.py\u001b[0m in \u001b[0;36mcheck_response\u001b[0;34m(self, response)\u001b[0m\n\u001b[1;32m    240\u001b[0m                 \u001b[0malert_text\u001b[0m \u001b[0;34m=\u001b[0m \u001b[0mvalue\u001b[0m\u001b[0;34m[\u001b[0m\u001b[0;34m'alert'\u001b[0m\u001b[0;34m]\u001b[0m\u001b[0;34m.\u001b[0m\u001b[0mget\u001b[0m\u001b[0;34m(\u001b[0m\u001b[0;34m'text'\u001b[0m\u001b[0;34m)\u001b[0m\u001b[0;34m\u001b[0m\u001b[0m\n\u001b[1;32m    241\u001b[0m             \u001b[0;32mraise\u001b[0m \u001b[0mexception_class\u001b[0m\u001b[0;34m(\u001b[0m\u001b[0mmessage\u001b[0m\u001b[0;34m,\u001b[0m \u001b[0mscreen\u001b[0m\u001b[0;34m,\u001b[0m \u001b[0mstacktrace\u001b[0m\u001b[0;34m,\u001b[0m \u001b[0malert_text\u001b[0m\u001b[0;34m)\u001b[0m\u001b[0;34m\u001b[0m\u001b[0m\n\u001b[0;32m--> 242\u001b[0;31m         \u001b[0;32mraise\u001b[0m \u001b[0mexception_class\u001b[0m\u001b[0;34m(\u001b[0m\u001b[0mmessage\u001b[0m\u001b[0;34m,\u001b[0m \u001b[0mscreen\u001b[0m\u001b[0;34m,\u001b[0m \u001b[0mstacktrace\u001b[0m\u001b[0;34m)\u001b[0m\u001b[0;34m\u001b[0m\u001b[0m\n\u001b[0m\u001b[1;32m    243\u001b[0m \u001b[0;34m\u001b[0m\u001b[0m\n\u001b[1;32m    244\u001b[0m     \u001b[0;32mdef\u001b[0m \u001b[0m_value_or_default\u001b[0m\u001b[0;34m(\u001b[0m\u001b[0mself\u001b[0m\u001b[0;34m,\u001b[0m \u001b[0mobj\u001b[0m\u001b[0;34m,\u001b[0m \u001b[0mkey\u001b[0m\u001b[0;34m,\u001b[0m \u001b[0mdefault\u001b[0m\u001b[0;34m)\u001b[0m\u001b[0;34m:\u001b[0m\u001b[0;34m\u001b[0m\u001b[0m\n",
      "\u001b[0;31mNoSuchElementException\u001b[0m: Message: no such element: Unable to locate element: {\"method\":\"partial link text\",\"selector\":\"Next\"}\n  (Session info: chrome=67.0.3396.87)\n  (Driver info: chromedriver=2.40.565386 (45a059dc425e08165f9a10324bd1380cc13ca363),platform=Mac OS X 10.13.4 x86_64)\n"
     ]
    }
   ],
   "source": [
    "while True:\n",
    "    search_list = driver.find_elements_by_class_name('searchfieldtitle')\n",
    "    list_for_df = []\n",
    "\n",
    "    for result in search_list:\n",
    "        dict = {}\n",
    "\n",
    "        dict['name'] = result.find_elements_by_tag_name('td')[1].text\n",
    "        try:\n",
    "            dict['url'] = result.find_elements_by_tag_name('td')[2].find_element_by_tag_name('a').get_attribute('href')\n",
    "        except:\n",
    "            dict['url'] = \"Pending\"\n",
    "        list_for_df.append(dict)\n",
    "\n",
    "    next_button = driver.find_element_by_partial_link_text('Next')\n",
    "    driver.execute_script(\"arguments[0].scrollIntoView(true)\", next_button)\n",
    "    next_button.click()\n",
    "    print(\"Scraping a new page\")"
   ]
  },
  {
   "cell_type": "markdown",
   "metadata": {},
   "source": [
    "### Making it perfect\n",
    "\n",
    "> Go back to the first page of results before you try to run this\n",
    "\n",
    "Wrap all of your code in a `try`/`except` so that it doesn't finish with an error and you'll be good to go.\n",
    "\n",
    "**Confirm your list has all of the vape shops in it.** If not, check where you are creating your empty list (`[]`) - if you do it in the wrong spot, it will overwrite your list every time you visit a page."
   ]
  },
  {
   "cell_type": "code",
   "execution_count": 14,
   "metadata": {},
   "outputs": [
    {
     "name": "stdout",
     "output_type": "stream",
     "text": [
      "Scraping a new page\n",
      "Scraping a new page\n",
      "Scraping a new page\n",
      "Scraping a new page\n",
      "Scraping a new page\n",
      "Scraping a new page\n"
     ]
    }
   ],
   "source": [
    "try:\n",
    "    list_for_df = []\n",
    "    while True:\n",
    "        search_list = driver.find_elements_by_class_name('searchfieldtitle')\n",
    "\n",
    "        for result in search_list:\n",
    "            dict = {}\n",
    "\n",
    "            dict['name'] = result.find_elements_by_tag_name('td')[1].text\n",
    "            try:\n",
    "                dict['url'] = result.find_elements_by_tag_name('td')[2].find_element_by_tag_name('a').get_attribute('href')\n",
    "            except:\n",
    "                dict['url'] = \"Pending\"\n",
    "            list_for_df.append(dict)\n",
    "\n",
    "        next_button = driver.find_element_by_partial_link_text('Next')\n",
    "        driver.execute_script(\"arguments[0].scrollIntoView(true)\", next_button)\n",
    "        next_button.click()\n",
    "        print(\"Scraping a new page\")\n",
    "except:\n",
    "    pass"
   ]
  },
  {
   "cell_type": "code",
   "execution_count": 15,
   "metadata": {},
   "outputs": [
    {
     "data": {
      "text/plain": [
       "[{'name': 'VAPE IT STORE II',\n",
       "  'url': 'https://jportal.mdcourts.gov/license/pbLicenseDetail.jsp?owi=iukTxbewFmQ%3D'},\n",
       " {'name': 'VAPE IT STORE I',\n",
       "  'url': 'https://jportal.mdcourts.gov/license/pbLicenseDetail.jsp?owi=mhuGD1c%2BSlI%3D'},\n",
       " {'name': 'VAPEPAD THE',\n",
       "  'url': 'https://jportal.mdcourts.gov/license/pbLicenseDetail.jsp?owi=4gn7%2BpOikQo%3D'},\n",
       " {'name': 'VAPE FROG', 'url': 'Pending'},\n",
       " {'name': 'VAPE FROG', 'url': 'Pending'},\n",
       " {'name': 'VAPE LOFT THE',\n",
       "  'url': 'https://jportal.mdcourts.gov/license/pbLicenseDetail.jsp?owi=ayHxAl3emr4%3D'},\n",
       " {'name': 'VAPE N CIGAR',\n",
       "  'url': 'https://jportal.mdcourts.gov/license/pbLicenseDetail.jsp?owi=%2F9jwyW3e7F4%3D'},\n",
       " {'name': 'VAPE DOJO',\n",
       "  'url': 'https://jportal.mdcourts.gov/license/pbLicenseDetail.jsp?owi=W58kd05sEqg%3D'},\n",
       " {'name': 'VAPE HAVEN', 'url': 'Pending'},\n",
       " {'name': 'VAPORS LOUNGE', 'url': 'Pending'},\n",
       " {'name': 'VAPORFI SOUTHSIDE',\n",
       "  'url': 'https://jportal.mdcourts.gov/license/pbLicenseDetail.jsp?owi=c4%2FPAcsaxFc%3D'},\n",
       " {'name': 'VAPE DO JO',\n",
       "  'url': 'https://jportal.mdcourts.gov/license/pbLicenseDetail.jsp?owi=E%2BCoi163IZM%3D'},\n",
       " {'name': 'VAPERTETMD', 'url': 'Pending'},\n",
       " {'name': 'VAPERTEKMD',\n",
       "  'url': 'https://jportal.mdcourts.gov/license/pbLicenseDetail.jsp?owi=J0SJGWhd5wI%3D'},\n",
       " {'name': 'VAPORIOT', 'url': 'Pending'},\n",
       " {'name': 'VAPE PLUS',\n",
       "  'url': 'https://jportal.mdcourts.gov/license/pbLicenseDetail.jsp?owi=f5gm5EuahZQ%3D'},\n",
       " {'name': 'VAPE SOCIAL',\n",
       "  'url': 'https://jportal.mdcourts.gov/license/pbLicenseDetail.jsp?owi=sImnU6v5QfA%3D'},\n",
       " {'name': 'VAPE JUNGLE',\n",
       "  'url': 'https://jportal.mdcourts.gov/license/pbLicenseDetail.jsp?owi=C3%2FOdGeWP9g%3D'},\n",
       " {'name': 'VAPE TIME', 'url': 'Pending'},\n",
       " {'name': 'VAPEBAR EXPESS', 'url': 'Pending'},\n",
       " {'name': 'VAPEWERKS',\n",
       "  'url': 'https://jportal.mdcourts.gov/license/pbLicenseDetail.jsp?owi=e3XEjZDSkPk%3D'},\n",
       " {'name': 'VAPIST MD',\n",
       "  'url': 'https://jportal.mdcourts.gov/license/pbLicenseDetail.jsp?owi=lv%2BEo%2Fl4DB4%3D'},\n",
       " {'name': 'VAPOR 99', 'url': 'Pending'},\n",
       " {'name': 'VAPOR ALLEY',\n",
       "  'url': 'https://jportal.mdcourts.gov/license/pbLicenseDetail.jsp?owi=YOKr0vznzg4%3D'},\n",
       " {'name': 'VAPOR EMPORIUM',\n",
       "  'url': 'https://jportal.mdcourts.gov/license/pbLicenseDetail.jsp?owi=zDlOBS4FhjU%3D'},\n",
       " {'name': 'VAPOR VILLA',\n",
       "  'url': 'https://jportal.mdcourts.gov/license/pbLicenseDetail.jsp?owi=rEqSvtQS4YY%3D'},\n",
       " {'name': 'VAPOR VILLA',\n",
       "  'url': 'https://jportal.mdcourts.gov/license/pbLicenseDetail.jsp?owi=kq%2BcmfYS8W8%3D'},\n",
       " {'name': 'VAPORS LOUNGE',\n",
       "  'url': 'https://jportal.mdcourts.gov/license/pbLicenseDetail.jsp?owi=y2aKbrt9oZY%3D'},\n",
       " {'name': 'VAPE DOJO',\n",
       "  'url': 'https://jportal.mdcourts.gov/license/pbLicenseDetail.jsp?owi=oCLSc0A0OX0%3D'},\n",
       " {'name': 'VAPE DOJO',\n",
       "  'url': 'https://jportal.mdcourts.gov/license/pbLicenseDetail.jsp?owi=qiaB1p%2FrpbA%3D'},\n",
       " {'name': 'VAPE DOJO',\n",
       "  'url': 'https://jportal.mdcourts.gov/license/pbLicenseDetail.jsp?owi=ZVaH3iDDbmE%3D'},\n",
       " {'name': 'VAPE DOJO',\n",
       "  'url': 'https://jportal.mdcourts.gov/license/pbLicenseDetail.jsp?owi=8lPWS1qybME%3D'},\n",
       " {'name': 'VAPEZ YARDHOUSE', 'url': 'Pending'},\n",
       " {'name': 'VAPERS RING',\n",
       "  'url': 'https://jportal.mdcourts.gov/license/pbLicenseDetail.jsp?owi=iJWvvf%2BZFA8%3D'}]"
      ]
     },
     "execution_count": 15,
     "metadata": {},
     "output_type": "execute_result"
    }
   ],
   "source": [
    "list_for_df"
   ]
  },
  {
   "cell_type": "markdown",
   "metadata": {},
   "source": [
    "### Save this data as a csv\n",
    "\n",
    "The filename should be `vape-shops-basic.csv`."
   ]
  },
  {
   "cell_type": "code",
   "execution_count": 16,
   "metadata": {},
   "outputs": [],
   "source": [
    "df = pd.DataFrame(list_for_df)"
   ]
  },
  {
   "cell_type": "code",
   "execution_count": 17,
   "metadata": {},
   "outputs": [],
   "source": [
    "df.to_csv(\"vape-shops-basic.csv\", index=False)"
   ]
  },
  {
   "cell_type": "markdown",
   "metadata": {},
   "source": [
    "# Okay, let's scrape!\n",
    "\n",
    "All right, get the actual data!\n",
    "\n",
    "### Look at the URL of your first row\n",
    "\n",
    "- *TIP: Remember `pd.set_option('display.max_colwidth', -1)` will let you see alllll of your strings*"
   ]
  },
  {
   "cell_type": "code",
   "execution_count": 18,
   "metadata": {},
   "outputs": [
    {
     "data": {
      "text/html": [
       "<div>\n",
       "<style scoped>\n",
       "    .dataframe tbody tr th:only-of-type {\n",
       "        vertical-align: middle;\n",
       "    }\n",
       "\n",
       "    .dataframe tbody tr th {\n",
       "        vertical-align: top;\n",
       "    }\n",
       "\n",
       "    .dataframe thead th {\n",
       "        text-align: right;\n",
       "    }\n",
       "</style>\n",
       "<table border=\"1\" class=\"dataframe\">\n",
       "  <thead>\n",
       "    <tr style=\"text-align: right;\">\n",
       "      <th></th>\n",
       "      <th>name</th>\n",
       "      <th>url</th>\n",
       "    </tr>\n",
       "  </thead>\n",
       "  <tbody>\n",
       "    <tr>\n",
       "      <th>0</th>\n",
       "      <td>VAPE IT STORE II</td>\n",
       "      <td>https://jportal.mdcourts.gov/license/pbLicenseDetail.jsp?owi=iukTxbewFmQ%3D</td>\n",
       "    </tr>\n",
       "    <tr>\n",
       "      <th>1</th>\n",
       "      <td>VAPE IT STORE I</td>\n",
       "      <td>https://jportal.mdcourts.gov/license/pbLicenseDetail.jsp?owi=mhuGD1c%2BSlI%3D</td>\n",
       "    </tr>\n",
       "    <tr>\n",
       "      <th>2</th>\n",
       "      <td>VAPEPAD THE</td>\n",
       "      <td>https://jportal.mdcourts.gov/license/pbLicenseDetail.jsp?owi=4gn7%2BpOikQo%3D</td>\n",
       "    </tr>\n",
       "    <tr>\n",
       "      <th>3</th>\n",
       "      <td>VAPE FROG</td>\n",
       "      <td>Pending</td>\n",
       "    </tr>\n",
       "    <tr>\n",
       "      <th>4</th>\n",
       "      <td>VAPE FROG</td>\n",
       "      <td>Pending</td>\n",
       "    </tr>\n",
       "  </tbody>\n",
       "</table>\n",
       "</div>"
      ],
      "text/plain": [
       "               name  \\\n",
       "0  VAPE IT STORE II   \n",
       "1  VAPE IT STORE I    \n",
       "2  VAPEPAD THE        \n",
       "3  VAPE FROG          \n",
       "4  VAPE FROG          \n",
       "\n",
       "                                                                             url  \n",
       "0  https://jportal.mdcourts.gov/license/pbLicenseDetail.jsp?owi=iukTxbewFmQ%3D    \n",
       "1  https://jportal.mdcourts.gov/license/pbLicenseDetail.jsp?owi=mhuGD1c%2BSlI%3D  \n",
       "2  https://jportal.mdcourts.gov/license/pbLicenseDetail.jsp?owi=4gn7%2BpOikQo%3D  \n",
       "3  Pending                                                                        \n",
       "4  Pending                                                                        "
      ]
     },
     "execution_count": 18,
     "metadata": {},
     "output_type": "execute_result"
    }
   ],
   "source": [
    "df = pd.read_csv(\"vape-shops-basic.csv\")\n",
    "pd.set_option('display.max_colwidth', -1)\n",
    "df.head()"
   ]
  },
  {
   "cell_type": "markdown",
   "metadata": {},
   "source": [
    "### Use Selenium to visit that page"
   ]
  },
  {
   "cell_type": "code",
   "execution_count": null,
   "metadata": {},
   "outputs": [],
   "source": [
    "#driver.get(df.url[0])\n"
   ]
  },
  {
   "cell_type": "markdown",
   "metadata": {},
   "source": [
    "### Now, just like you did before, grab the additional data\n",
    "\n",
    "You should probably save it into a dictionary! Don't try to put it into the dataframe yet, though. You want:\n",
    "\n",
    "- Mailing address\n",
    "- Location address\n",
    "- License information (you can keep it as one field)\n",
    "- Total amount paid\n",
    "- Issued by\n",
    "- If you're feeling crazy, get the licenses, too.\n",
    "\n",
    ".\n",
    "\n",
    "- *TIP: Licenses can be acquired by doing some really odd list slicing - think about where it starts and where it ends, relative to the beginning and end of everything.*\n",
    "- *TIP: If you've gotten addicted to xpath, total amount paid and issued by might not work with it when doing other shops. You'll want to test it!*"
   ]
  },
  {
   "cell_type": "code",
   "execution_count": null,
   "metadata": {},
   "outputs": [],
   "source": [
    "rows = driver.find_elements_by_class_name('tablecelltext')\n",
    "\n",
    "mailing_address = \" \".join(rows[0].find_elements_by_tag_name('td')[0].text.split('\\n')[-2:])\n",
    "location_address = \" \".join(rows[1].find_elements_by_tag_name('td')[0].text.split('\\n')[-2:])\n",
    "license_info = rows[0].find_elements_by_tag_name('td')[1].text\n",
    "total_amt_paid = rows[-3].text.split(': ')[-1]\n",
    "issued_by = \" \".join(rows[-2].text.split('\\n'))\n",
    "\n",
    "first_dict = {\n",
    "    'Mailing_address': mailing_address,\n",
    "    'Location_address': location_address,\n",
    "    'License_info': license_info,\n",
    "    'Total_amt_paid': total_amt_paid,\n",
    "    'Issued_by': issued_by\n",
    "}\n",
    "\n",
    "# return_to_list_button = driver.find_element_by_partial_link_text('Retur')\n",
    "# return_to_list_button.click()\n",
    "first_dict"
   ]
  },
  {
   "cell_type": "code",
   "execution_count": null,
   "metadata": {},
   "outputs": [],
   "source": [
    "# testing cell\n",
    "# rows = driver.find_elements_by_class_name('tablecelltext')\n",
    "# rows[-2].text.split('\\n')"
   ]
  },
  {
   "cell_type": "markdown",
   "metadata": {},
   "source": [
    "### Move all of this into one cell\n",
    "\n",
    "It should visit the URL, then grab the data and put it into a dictionary."
   ]
  },
  {
   "cell_type": "code",
   "execution_count": 19,
   "metadata": {},
   "outputs": [
    {
     "data": {
      "text/plain": [
       "{'Mailing_address': '1104 PLANTERS PLACE SALISBURY, MD 21804',\n",
       " 'Location_address': '1015 S SALISBURY BLVD SALISBURY, MD 21801',\n",
       " 'License_info': 'License Status: Issued\\nLicense No.: 22375606\\nControl No.: 22884439\\nDate of Issue: 4/27/2018\\nMonths Paid: 12\\nExp. Date: 4/30/2019\\nSubdivision: 22 Salisbury',\n",
       " 'Total_amt_paid': '$ 41.00',\n",
       " 'Issued_by': 'WICOMICO COUNTY, CLERK OF CIRCUIT COURT P.O. BOX 198 SALISBURY, MARYLAND 21803-0198'}"
      ]
     },
     "execution_count": 19,
     "metadata": {},
     "output_type": "execute_result"
    }
   ],
   "source": [
    "driver.get(df.url[0])\n",
    "\n",
    "rows = driver.find_elements_by_class_name('tablecelltext')\n",
    "\n",
    "mailing_address = \" \".join(rows[0].find_elements_by_tag_name('td')[0].text.split('\\n')[-2:])\n",
    "location_address = \" \".join(rows[1].find_elements_by_tag_name('td')[0].text.split('\\n')[-2:])\n",
    "license_info = rows[0].find_elements_by_tag_name('td')[1].text\n",
    "total_amt_paid = rows[-3].text.split(': ')[-1]\n",
    "issued_by = \" \".join(rows[-2].text.split('\\n'))\n",
    "\n",
    "first_dict = {\n",
    "    'Mailing_address': mailing_address,\n",
    "    'Location_address': location_address,\n",
    "    'License_info': license_info,\n",
    "    'Total_amt_paid': total_amt_paid,\n",
    "    'Issued_by': issued_by\n",
    "}\n",
    "first_dict"
   ]
  },
  {
   "cell_type": "markdown",
   "metadata": {},
   "source": [
    "### Change it into a function\n",
    "\n",
    "You'll want to have this function accept a `row`, and send back a `pd.Series`. You can just use `pd.Series(your_dictionary)` (but it better have a better name than `your_dictionary`!).\n",
    "\n",
    "- *TIP: Make sure you `return` something!*\n",
    "- *TIP: Make sure you change everything to reflect the row's url, not the URL you typed in*"
   ]
  },
  {
   "cell_type": "code",
   "execution_count": 21,
   "metadata": {},
   "outputs": [],
   "source": [
    "def get_details(row):\n",
    "    driver.get(row['url'])\n",
    "\n",
    "    rows = driver.find_elements_by_class_name('tablecelltext')\n",
    "\n",
    "    mailing_address = \" \".join(rows[0].find_elements_by_tag_name('td')[0].text.split('\\n')[-2:])\n",
    "    location_address = \" \".join(rows[1].find_elements_by_tag_name('td')[0].text.split('\\n')[-2:])\n",
    "    license_info = rows[0].find_elements_by_tag_name('td')[1].text\n",
    "    total_amt_paid = rows[-3].text.split(': ')[-1]\n",
    "    issued_by = \" \".join(rows[-2].text.split('\\n'))\n",
    "                   \n",
    "    return pd.Series(first_dict)"
   ]
  },
  {
   "cell_type": "markdown",
   "metadata": {},
   "source": [
    "### Use your dataframe and `.apply` to pull all of the data from the vape shops\n",
    "\n",
    "Once you know it's working, use the whole \n",
    "\n",
    "- *TIP: Try using it with `.head(3)` first*\n",
    "- *TIP: You'll want to use `.apply` with your new function*\n",
    "- *TIP: Issued By and Total Paid are goign to give you problems if you tried to use xpath! Try checking the classes and think about find_elementSSSSS and working backwards instead of forwards.*\n",
    "- *TIP: You might need a `try`/`except`*\n",
    "- *TIP: Make sure you're using `axis=1`*\n",
    "- *TIP: Use `.join` the big thing with all of the `dfs` - make sure you name them right!*"
   ]
  },
  {
   "cell_type": "code",
   "execution_count": 23,
   "metadata": {},
   "outputs": [
    {
     "ename": "IndexError",
     "evalue": "('list index out of range', 'occurred at index 0')",
     "output_type": "error",
     "traceback": [
      "\u001b[0;31m---------------------------------------------------------------------------\u001b[0m",
      "\u001b[0;31mIndexError\u001b[0m                                Traceback (most recent call last)",
      "\u001b[0;32m<ipython-input-23-bf9ec6ee94c9>\u001b[0m in \u001b[0;36m<module>\u001b[0;34m()\u001b[0m\n\u001b[1;32m      2\u001b[0m \u001b[0;34m\u001b[0m\u001b[0m\n\u001b[1;32m      3\u001b[0m \u001b[0;31m# Take every row and send it to get_details, and combine with old data\u001b[0m\u001b[0;34m\u001b[0m\u001b[0;34m\u001b[0m\u001b[0m\n\u001b[0;32m----> 4\u001b[0;31m \u001b[0mnew_df\u001b[0m \u001b[0;34m=\u001b[0m \u001b[0mdf\u001b[0m\u001b[0;34m.\u001b[0m\u001b[0mapply\u001b[0m\u001b[0;34m(\u001b[0m\u001b[0mget_details\u001b[0m\u001b[0;34m,\u001b[0m \u001b[0maxis\u001b[0m\u001b[0;34m=\u001b[0m\u001b[0;36m1\u001b[0m\u001b[0;34m)\u001b[0m\u001b[0;34m.\u001b[0m\u001b[0mjoin\u001b[0m\u001b[0;34m(\u001b[0m\u001b[0mdf\u001b[0m\u001b[0;34m)\u001b[0m\u001b[0;34m\u001b[0m\u001b[0m\n\u001b[0m\u001b[1;32m      5\u001b[0m \u001b[0mnew_df\u001b[0m\u001b[0;34m.\u001b[0m\u001b[0mhead\u001b[0m\u001b[0;34m(\u001b[0m\u001b[0;34m)\u001b[0m\u001b[0;34m\u001b[0m\u001b[0m\n",
      "\u001b[0;32m~/.pyenv/versions/3.6.5/lib/python3.6/site-packages/pandas/core/frame.py\u001b[0m in \u001b[0;36mapply\u001b[0;34m(self, func, axis, broadcast, raw, reduce, result_type, args, **kwds)\u001b[0m\n\u001b[1;32m   6002\u001b[0m                          \u001b[0margs\u001b[0m\u001b[0;34m=\u001b[0m\u001b[0margs\u001b[0m\u001b[0;34m,\u001b[0m\u001b[0;34m\u001b[0m\u001b[0m\n\u001b[1;32m   6003\u001b[0m                          kwds=kwds)\n\u001b[0;32m-> 6004\u001b[0;31m         \u001b[0;32mreturn\u001b[0m \u001b[0mop\u001b[0m\u001b[0;34m.\u001b[0m\u001b[0mget_result\u001b[0m\u001b[0;34m(\u001b[0m\u001b[0;34m)\u001b[0m\u001b[0;34m\u001b[0m\u001b[0m\n\u001b[0m\u001b[1;32m   6005\u001b[0m \u001b[0;34m\u001b[0m\u001b[0m\n\u001b[1;32m   6006\u001b[0m     \u001b[0;32mdef\u001b[0m \u001b[0mapplymap\u001b[0m\u001b[0;34m(\u001b[0m\u001b[0mself\u001b[0m\u001b[0;34m,\u001b[0m \u001b[0mfunc\u001b[0m\u001b[0;34m)\u001b[0m\u001b[0;34m:\u001b[0m\u001b[0;34m\u001b[0m\u001b[0m\n",
      "\u001b[0;32m~/.pyenv/versions/3.6.5/lib/python3.6/site-packages/pandas/core/apply.py\u001b[0m in \u001b[0;36mget_result\u001b[0;34m(self)\u001b[0m\n\u001b[1;32m    140\u001b[0m             \u001b[0;32mreturn\u001b[0m \u001b[0mself\u001b[0m\u001b[0;34m.\u001b[0m\u001b[0mapply_raw\u001b[0m\u001b[0;34m(\u001b[0m\u001b[0;34m)\u001b[0m\u001b[0;34m\u001b[0m\u001b[0m\n\u001b[1;32m    141\u001b[0m \u001b[0;34m\u001b[0m\u001b[0m\n\u001b[0;32m--> 142\u001b[0;31m         \u001b[0;32mreturn\u001b[0m \u001b[0mself\u001b[0m\u001b[0;34m.\u001b[0m\u001b[0mapply_standard\u001b[0m\u001b[0;34m(\u001b[0m\u001b[0;34m)\u001b[0m\u001b[0;34m\u001b[0m\u001b[0m\n\u001b[0m\u001b[1;32m    143\u001b[0m \u001b[0;34m\u001b[0m\u001b[0m\n\u001b[1;32m    144\u001b[0m     \u001b[0;32mdef\u001b[0m \u001b[0mapply_empty_result\u001b[0m\u001b[0;34m(\u001b[0m\u001b[0mself\u001b[0m\u001b[0;34m)\u001b[0m\u001b[0;34m:\u001b[0m\u001b[0;34m\u001b[0m\u001b[0m\n",
      "\u001b[0;32m~/.pyenv/versions/3.6.5/lib/python3.6/site-packages/pandas/core/apply.py\u001b[0m in \u001b[0;36mapply_standard\u001b[0;34m(self)\u001b[0m\n\u001b[1;32m    246\u001b[0m \u001b[0;34m\u001b[0m\u001b[0m\n\u001b[1;32m    247\u001b[0m         \u001b[0;31m# compute the result using the series generator\u001b[0m\u001b[0;34m\u001b[0m\u001b[0;34m\u001b[0m\u001b[0m\n\u001b[0;32m--> 248\u001b[0;31m         \u001b[0mself\u001b[0m\u001b[0;34m.\u001b[0m\u001b[0mapply_series_generator\u001b[0m\u001b[0;34m(\u001b[0m\u001b[0;34m)\u001b[0m\u001b[0;34m\u001b[0m\u001b[0m\n\u001b[0m\u001b[1;32m    249\u001b[0m \u001b[0;34m\u001b[0m\u001b[0m\n\u001b[1;32m    250\u001b[0m         \u001b[0;31m# wrap results\u001b[0m\u001b[0;34m\u001b[0m\u001b[0;34m\u001b[0m\u001b[0m\n",
      "\u001b[0;32m~/.pyenv/versions/3.6.5/lib/python3.6/site-packages/pandas/core/apply.py\u001b[0m in \u001b[0;36mapply_series_generator\u001b[0;34m(self)\u001b[0m\n\u001b[1;32m    275\u001b[0m             \u001b[0;32mtry\u001b[0m\u001b[0;34m:\u001b[0m\u001b[0;34m\u001b[0m\u001b[0m\n\u001b[1;32m    276\u001b[0m                 \u001b[0;32mfor\u001b[0m \u001b[0mi\u001b[0m\u001b[0;34m,\u001b[0m \u001b[0mv\u001b[0m \u001b[0;32min\u001b[0m \u001b[0menumerate\u001b[0m\u001b[0;34m(\u001b[0m\u001b[0mseries_gen\u001b[0m\u001b[0;34m)\u001b[0m\u001b[0;34m:\u001b[0m\u001b[0;34m\u001b[0m\u001b[0m\n\u001b[0;32m--> 277\u001b[0;31m                     \u001b[0mresults\u001b[0m\u001b[0;34m[\u001b[0m\u001b[0mi\u001b[0m\u001b[0;34m]\u001b[0m \u001b[0;34m=\u001b[0m \u001b[0mself\u001b[0m\u001b[0;34m.\u001b[0m\u001b[0mf\u001b[0m\u001b[0;34m(\u001b[0m\u001b[0mv\u001b[0m\u001b[0;34m)\u001b[0m\u001b[0;34m\u001b[0m\u001b[0m\n\u001b[0m\u001b[1;32m    278\u001b[0m                     \u001b[0mkeys\u001b[0m\u001b[0;34m.\u001b[0m\u001b[0mappend\u001b[0m\u001b[0;34m(\u001b[0m\u001b[0mv\u001b[0m\u001b[0;34m.\u001b[0m\u001b[0mname\u001b[0m\u001b[0;34m)\u001b[0m\u001b[0;34m\u001b[0m\u001b[0m\n\u001b[1;32m    279\u001b[0m             \u001b[0;32mexcept\u001b[0m \u001b[0mException\u001b[0m \u001b[0;32mas\u001b[0m \u001b[0me\u001b[0m\u001b[0;34m:\u001b[0m\u001b[0;34m\u001b[0m\u001b[0m\n",
      "\u001b[0;32m<ipython-input-21-ac76f6819e05>\u001b[0m in \u001b[0;36mget_details\u001b[0;34m(row)\u001b[0m\n\u001b[1;32m      4\u001b[0m     \u001b[0mrows\u001b[0m \u001b[0;34m=\u001b[0m \u001b[0mdriver\u001b[0m\u001b[0;34m.\u001b[0m\u001b[0mfind_elements_by_class_name\u001b[0m\u001b[0;34m(\u001b[0m\u001b[0;34m'tablecelltext'\u001b[0m\u001b[0;34m)\u001b[0m\u001b[0;34m\u001b[0m\u001b[0m\n\u001b[1;32m      5\u001b[0m \u001b[0;34m\u001b[0m\u001b[0m\n\u001b[0;32m----> 6\u001b[0;31m     \u001b[0mmailing_address\u001b[0m \u001b[0;34m=\u001b[0m \u001b[0;34m\" \"\u001b[0m\u001b[0;34m.\u001b[0m\u001b[0mjoin\u001b[0m\u001b[0;34m(\u001b[0m\u001b[0mrows\u001b[0m\u001b[0;34m[\u001b[0m\u001b[0;36m0\u001b[0m\u001b[0;34m]\u001b[0m\u001b[0;34m.\u001b[0m\u001b[0mfind_elements_by_tag_name\u001b[0m\u001b[0;34m(\u001b[0m\u001b[0;34m'td'\u001b[0m\u001b[0;34m)\u001b[0m\u001b[0;34m[\u001b[0m\u001b[0;36m0\u001b[0m\u001b[0;34m]\u001b[0m\u001b[0;34m.\u001b[0m\u001b[0mtext\u001b[0m\u001b[0;34m.\u001b[0m\u001b[0msplit\u001b[0m\u001b[0;34m(\u001b[0m\u001b[0;34m'\\n'\u001b[0m\u001b[0;34m)\u001b[0m\u001b[0;34m[\u001b[0m\u001b[0;34m-\u001b[0m\u001b[0;36m2\u001b[0m\u001b[0;34m:\u001b[0m\u001b[0;34m]\u001b[0m\u001b[0;34m)\u001b[0m\u001b[0;34m\u001b[0m\u001b[0m\n\u001b[0m\u001b[1;32m      7\u001b[0m     \u001b[0mlocation_address\u001b[0m \u001b[0;34m=\u001b[0m \u001b[0;34m\" \"\u001b[0m\u001b[0;34m.\u001b[0m\u001b[0mjoin\u001b[0m\u001b[0;34m(\u001b[0m\u001b[0mrows\u001b[0m\u001b[0;34m[\u001b[0m\u001b[0;36m1\u001b[0m\u001b[0;34m]\u001b[0m\u001b[0;34m.\u001b[0m\u001b[0mfind_elements_by_tag_name\u001b[0m\u001b[0;34m(\u001b[0m\u001b[0;34m'td'\u001b[0m\u001b[0;34m)\u001b[0m\u001b[0;34m[\u001b[0m\u001b[0;36m0\u001b[0m\u001b[0;34m]\u001b[0m\u001b[0;34m.\u001b[0m\u001b[0mtext\u001b[0m\u001b[0;34m.\u001b[0m\u001b[0msplit\u001b[0m\u001b[0;34m(\u001b[0m\u001b[0;34m'\\n'\u001b[0m\u001b[0;34m)\u001b[0m\u001b[0;34m[\u001b[0m\u001b[0;34m-\u001b[0m\u001b[0;36m2\u001b[0m\u001b[0;34m:\u001b[0m\u001b[0;34m]\u001b[0m\u001b[0;34m)\u001b[0m\u001b[0;34m\u001b[0m\u001b[0m\n\u001b[1;32m      8\u001b[0m     \u001b[0mlicense_info\u001b[0m \u001b[0;34m=\u001b[0m \u001b[0mrows\u001b[0m\u001b[0;34m[\u001b[0m\u001b[0;36m0\u001b[0m\u001b[0;34m]\u001b[0m\u001b[0;34m.\u001b[0m\u001b[0mfind_elements_by_tag_name\u001b[0m\u001b[0;34m(\u001b[0m\u001b[0;34m'td'\u001b[0m\u001b[0;34m)\u001b[0m\u001b[0;34m[\u001b[0m\u001b[0;36m1\u001b[0m\u001b[0;34m]\u001b[0m\u001b[0;34m.\u001b[0m\u001b[0mtext\u001b[0m\u001b[0;34m\u001b[0m\u001b[0m\n",
      "\u001b[0;31mIndexError\u001b[0m: ('list index out of range', 'occurred at index 0')"
     ]
    }
   ],
   "source": [
    "driver = webdriver.Chrome()\n",
    "\n",
    "# Take every row and send it to get_details, and combine with old data\n",
    "new_df = df.apply(get_details, axis=1).join(df)\n",
    "new_df.head()"
   ]
  },
  {
   "cell_type": "markdown",
   "metadata": {},
   "source": [
    "## Save as `vape-total.csv`\n",
    "\n",
    "Make sure you don't save the index! Open it up in a text editor or Excel to make sure it's correct."
   ]
  },
  {
   "cell_type": "code",
   "execution_count": null,
   "metadata": {},
   "outputs": [],
   "source": []
  },
  {
   "cell_type": "code",
   "execution_count": null,
   "metadata": {},
   "outputs": [],
   "source": []
  }
 ],
 "metadata": {
  "kernelspec": {
   "display_name": "Python 3",
   "language": "python",
   "name": "python3"
  },
  "language_info": {
   "codemirror_mode": {
    "name": "ipython",
    "version": 3
   },
   "file_extension": ".py",
   "mimetype": "text/x-python",
   "name": "python",
   "nbconvert_exporter": "python",
   "pygments_lexer": "ipython3",
   "version": "3.6.5"
  }
 },
 "nbformat": 4,
 "nbformat_minor": 2
}
